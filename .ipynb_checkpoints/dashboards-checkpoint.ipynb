{
 "cells": [
  {
   "cell_type": "markdown",
   "metadata": {},
   "source": [
    "# Interaktivní vizualizace a aplikace\n",
    "\n",
    "Při práci s daty je mnoho příležitostí, kdy se hodí interaktivita. Při vizualici se hodí zvětšování / změnšování měřítka, výběr podoblasti, ukázání vykreslených hodnot apod. Nebo při datové anlýze obecně se může hodit interaktivně v notebooku měnit nějaký parametr (třeba hyperparametr pro strojové učení). Anebo chceme dát výsledky naší skvělé analýzy k dispozici \"netechnickým\" kolegům nebo kamarádům, kteří (zatím) nedokáží Jupyter notebook spustit.\n",
    "\n",
    "Tady si ukážeme, jak si s takovými úkoly poradit pomocí dvou nástrojů: [plotly](https://plotly.com/python/), resp. především [plotly express](https://plotly.com/python/plotly-express/), a [panel](https://panel.holoviz.org/).\n",
    "\n",
    "Existují i další nástroje, které poskytují podobné možnosti. Podrobný přehled najdete na https://pyviz.org/tools.html.  Na interaktivní vizualizace jsou to především [holoviews](http://github.com/pyviz/holoviews) nebo [altair](http://github.com/altair-viz/altair). Na \"dashboarding\" pak [dash](http://github.com/plotly/dash), [streamlit](http://github.com/streamlit/streamlit), [voila](http://github.com/QuantStack/voila) nebo [justpy](https://justpy.io).\n",
    "\n",
    "Každý z těchto nástrojů má, jako obvykle, své výhody a nevýhody. Nejrozšířenějším nástrojem je [Dash](http://github.com/plotly/dash) ze stejné dílny jako plotly, který poskytuje i enterprise řešení pro provoz aplikací. Dash je určitě dobrou volbou, jak se můžete dozvědět i na [přednášce z pražského PyData Meetupu](https://www.youtube.com/watch?v=dewrzMPPLDU). Panel (a také Voila) se od Dash liší tím, že je lze použít i v Jupytere notebooku a pak notebook použít přímo jako aplikaci - a proto Panel použijeme my v této lekci.\n",
    "\n",
    "Pár článků či přednášek, které se tématu týkají:\n",
    "* [Going beyond Jupyter notebooks](https://www.intelligencerefinery.io/post/making-python-apps/)\n",
    "* [How to Build a Reporting Dashboard using Dash and Plotly](https://towardsdatascience.com/how-to-build-a-complex-reporting-dashboard-using-dash-and-plotl-4f4257c18a7f)\n",
    "* [Turn any Notebook into a Deployable Dashboard | SciPy 2019 | James Bednar](https://www.youtube.com/watch?v=L91rd1D6XTA)\n"
   ]
  },
  {
   "cell_type": "markdown",
   "metadata": {},
   "source": [
    "## Pro a proti\n",
    "\n",
    "Je potřeba ale říct, že všechny tyto přístupy mají své výrazné nevýhody a limity a nehodí se pro velké a složité aplikace. Možnosti interakcí v aplikaci jsou omezené a také mohou být pomalé. Robustní škálování pro mnoho uživatelů (velký provoz) je obecně složitější. Kdy tedy především použít co si tady ukážeme?\n",
    "* Na malou aplikaci pro omezený počet uživatelů (dashboard pro kolegy).\n",
    "* Na rychlý vývoj prototypu.\n",
    "\n",
    "A co když chceme budovat velkou (webovou) aplikaci?\n",
    "* Zadáme vývojářskému týmu, aby v moderních JavaScript nástrojích typu React nebo Vue.js pro nás vytvořil krásný a rychlý \"front-end\", zatímco my vytvoříme v Pythonu \"back-end\", který s front-endem bude komunikovat např. pomocí JSON API, tak jak jsme viděli v [naší lekci o API](../api/).\n",
    "* Když takový tým nemáme, naučíme se programovat JavaScriptu ... Ne, raději v TypeScriptu ...\n",
    "* ... raději najmeme ten vývojářský tým :-)\n"
   ]
  },
  {
   "cell_type": "markdown",
   "metadata": {},
   "source": [
    "## Instalace a import grafických knihoven\n",
    "\n",
    "Pokud nemáte nainstalované knihovny plotly a panel, odkomentujte a spusťe příslušné řádky."
   ]
  },
  {
   "cell_type": "code",
   "execution_count": null,
   "metadata": {},
   "outputs": [
    {
     "name": "stdout",
     "output_type": "stream",
     "text": [
      "Collecting plotly\n",
      "  Downloading plotly-4.7.1-py2.py3-none-any.whl (11.5 MB)\n",
      "\u001b[K     |████████████████████████████████| 11.5 MB 2.8 MB/s eta 0:00:01\n",
      "\u001b[?25hRequirement already satisfied: six in /Users/janazuzanakova/Documents/python/pydata/venv2/lib/python3.7/site-packages (from plotly) (1.14.0)\n",
      "Collecting retrying>=1.3.3\n",
      "  Using cached retrying-1.3.3.tar.gz (10 kB)\n"
     ]
    }
   ],
   "source": [
    "# instalace plotly\n",
    "%pip install plotly"
   ]
  },
  {
   "cell_type": "code",
   "execution_count": 2,
   "metadata": {},
   "outputs": [],
   "source": [
    "# instalace panel\n",
    "# POZOR: nainstalujte tuto (v době vzniku nejnovější) verzi, \n",
    "# s některými předešlými verzemi byl problém v násleném provozu na heroku\n",
    "\n",
    "%pip install bokeh==2.0.2 panel==0.9.5"
   ]
  },
  {
   "cell_type": "markdown",
   "metadata": {},
   "source": [
    "Pro plotly express a panel se vžily zkratky `px` a `pn`, pod kterými je naimportujeme i my. \n",
    "Dále je pro použití panelu v notebooku potřeba zavolat `pn.extension`, v našem případě s argumentem `\"plotly\"` aby tyto dvě knihovny správně spolupracovaly.\n",
    "Je doporučené to udělat hned na začátku notebooku, resp. před použitím plotly nebo panel, jinak může dojít k problémům v zobrazování notebooku."
   ]
  },
  {
   "cell_type": "code",
   "execution_count": null,
   "metadata": {},
   "outputs": [],
   "source": [
    "import plotly.express as px\n",
    "import panel as pn\n",
    "\n",
    "pn.extension(\"plotly\")"
   ]
  },
  {
   "cell_type": "markdown",
   "metadata": {},
   "source": [
    "## COVID-19 dashboard\n",
    "\n",
    "Z onemocnění COVID-19 je v době vzniku tohoto kurzu většina z nás už dost nešťastná. Poskytuje ale příležitost k analýzám dat a vytváření vizualizací a dashboardů. Jejich přehled a hodnocení přináší např. i článek z MIT: [The best, and the worst, of the coronavirus dashboards](https://www.technologyreview.com/2020/03/06/905436/best-worst-coronavirus-dashboards/). Uvidíme, jestli se do příštího vydání dostane a náš dashboard :)"
   ]
  },
  {
   "cell_type": "markdown",
   "metadata": {},
   "source": [
    "### Data\n",
    "\n",
    "Použijeme data z https://github.com/datasets/covid-19 (lehce přeformátovaná data z Johns Hopkins University: https://github.com/CSSEGISandData/COVID-19)."
   ]
  },
  {
   "cell_type": "code",
   "execution_count": 4,
   "metadata": {},
   "outputs": [],
   "source": [
    "import pandas as pd"
   ]
  },
  {
   "cell_type": "code",
   "execution_count": 5,
   "metadata": {},
   "outputs": [],
   "source": [
    "covid_data_raw = pd.read_csv(\n",
    "    \"https://raw.githubusercontent.com/datasets/covid-19/master/data/time-series-19-covid-combined.csv\",\n",
    "    parse_dates=[\"Date\"],\n",
    ").rename(columns={\"Province/State\": \"State\", \"Country/Region\": \"Country\"})"
   ]
  },
  {
   "cell_type": "code",
   "execution_count": 6,
   "metadata": {},
   "outputs": [
    {
     "data": {
      "text/html": [
       "<div>\n",
       "<style scoped>\n",
       "    .dataframe tbody tr th:only-of-type {\n",
       "        vertical-align: middle;\n",
       "    }\n",
       "\n",
       "    .dataframe tbody tr th {\n",
       "        vertical-align: top;\n",
       "    }\n",
       "\n",
       "    .dataframe thead th {\n",
       "        text-align: right;\n",
       "    }\n",
       "</style>\n",
       "<table border=\"1\" class=\"dataframe\">\n",
       "  <thead>\n",
       "    <tr style=\"text-align: right;\">\n",
       "      <th></th>\n",
       "      <th>Date</th>\n",
       "      <th>Country</th>\n",
       "      <th>State</th>\n",
       "      <th>Lat</th>\n",
       "      <th>Long</th>\n",
       "      <th>Confirmed</th>\n",
       "      <th>Recovered</th>\n",
       "      <th>Deaths</th>\n",
       "    </tr>\n",
       "  </thead>\n",
       "  <tbody>\n",
       "    <tr>\n",
       "      <th>0</th>\n",
       "      <td>2020-01-22</td>\n",
       "      <td>Afghanistan</td>\n",
       "      <td>NaN</td>\n",
       "      <td>33.0</td>\n",
       "      <td>65.0</td>\n",
       "      <td>0.0</td>\n",
       "      <td>0.0</td>\n",
       "      <td>0.0</td>\n",
       "    </tr>\n",
       "    <tr>\n",
       "      <th>1</th>\n",
       "      <td>2020-01-23</td>\n",
       "      <td>Afghanistan</td>\n",
       "      <td>NaN</td>\n",
       "      <td>33.0</td>\n",
       "      <td>65.0</td>\n",
       "      <td>0.0</td>\n",
       "      <td>0.0</td>\n",
       "      <td>0.0</td>\n",
       "    </tr>\n",
       "    <tr>\n",
       "      <th>2</th>\n",
       "      <td>2020-01-24</td>\n",
       "      <td>Afghanistan</td>\n",
       "      <td>NaN</td>\n",
       "      <td>33.0</td>\n",
       "      <td>65.0</td>\n",
       "      <td>0.0</td>\n",
       "      <td>0.0</td>\n",
       "      <td>0.0</td>\n",
       "    </tr>\n",
       "    <tr>\n",
       "      <th>3</th>\n",
       "      <td>2020-01-25</td>\n",
       "      <td>Afghanistan</td>\n",
       "      <td>NaN</td>\n",
       "      <td>33.0</td>\n",
       "      <td>65.0</td>\n",
       "      <td>0.0</td>\n",
       "      <td>0.0</td>\n",
       "      <td>0.0</td>\n",
       "    </tr>\n",
       "    <tr>\n",
       "      <th>4</th>\n",
       "      <td>2020-01-26</td>\n",
       "      <td>Afghanistan</td>\n",
       "      <td>NaN</td>\n",
       "      <td>33.0</td>\n",
       "      <td>65.0</td>\n",
       "      <td>0.0</td>\n",
       "      <td>0.0</td>\n",
       "      <td>0.0</td>\n",
       "    </tr>\n",
       "    <tr>\n",
       "      <th>...</th>\n",
       "      <td>...</td>\n",
       "      <td>...</td>\n",
       "      <td>...</td>\n",
       "      <td>...</td>\n",
       "      <td>...</td>\n",
       "      <td>...</td>\n",
       "      <td>...</td>\n",
       "      <td>...</td>\n",
       "    </tr>\n",
       "    <tr>\n",
       "      <th>28989</th>\n",
       "      <td>2020-05-05</td>\n",
       "      <td>Zimbabwe</td>\n",
       "      <td>NaN</td>\n",
       "      <td>-20.0</td>\n",
       "      <td>30.0</td>\n",
       "      <td>34.0</td>\n",
       "      <td>5.0</td>\n",
       "      <td>4.0</td>\n",
       "    </tr>\n",
       "    <tr>\n",
       "      <th>28990</th>\n",
       "      <td>2020-05-06</td>\n",
       "      <td>Zimbabwe</td>\n",
       "      <td>NaN</td>\n",
       "      <td>-20.0</td>\n",
       "      <td>30.0</td>\n",
       "      <td>34.0</td>\n",
       "      <td>5.0</td>\n",
       "      <td>4.0</td>\n",
       "    </tr>\n",
       "    <tr>\n",
       "      <th>28991</th>\n",
       "      <td>2020-05-07</td>\n",
       "      <td>Zimbabwe</td>\n",
       "      <td>NaN</td>\n",
       "      <td>-20.0</td>\n",
       "      <td>30.0</td>\n",
       "      <td>34.0</td>\n",
       "      <td>5.0</td>\n",
       "      <td>4.0</td>\n",
       "    </tr>\n",
       "    <tr>\n",
       "      <th>28992</th>\n",
       "      <td>2020-05-08</td>\n",
       "      <td>Zimbabwe</td>\n",
       "      <td>NaN</td>\n",
       "      <td>-20.0</td>\n",
       "      <td>30.0</td>\n",
       "      <td>34.0</td>\n",
       "      <td>9.0</td>\n",
       "      <td>4.0</td>\n",
       "    </tr>\n",
       "    <tr>\n",
       "      <th>28993</th>\n",
       "      <td>2020-05-09</td>\n",
       "      <td>Zimbabwe</td>\n",
       "      <td>NaN</td>\n",
       "      <td>-20.0</td>\n",
       "      <td>30.0</td>\n",
       "      <td>35.0</td>\n",
       "      <td>9.0</td>\n",
       "      <td>4.0</td>\n",
       "    </tr>\n",
       "  </tbody>\n",
       "</table>\n",
       "<p>28994 rows × 8 columns</p>\n",
       "</div>"
      ],
      "text/plain": [
       "            Date      Country State   Lat  Long  Confirmed  Recovered  Deaths\n",
       "0     2020-01-22  Afghanistan   NaN  33.0  65.0        0.0        0.0     0.0\n",
       "1     2020-01-23  Afghanistan   NaN  33.0  65.0        0.0        0.0     0.0\n",
       "2     2020-01-24  Afghanistan   NaN  33.0  65.0        0.0        0.0     0.0\n",
       "3     2020-01-25  Afghanistan   NaN  33.0  65.0        0.0        0.0     0.0\n",
       "4     2020-01-26  Afghanistan   NaN  33.0  65.0        0.0        0.0     0.0\n",
       "...          ...          ...   ...   ...   ...        ...        ...     ...\n",
       "28989 2020-05-05     Zimbabwe   NaN -20.0  30.0       34.0        5.0     4.0\n",
       "28990 2020-05-06     Zimbabwe   NaN -20.0  30.0       34.0        5.0     4.0\n",
       "28991 2020-05-07     Zimbabwe   NaN -20.0  30.0       34.0        5.0     4.0\n",
       "28992 2020-05-08     Zimbabwe   NaN -20.0  30.0       34.0        9.0     4.0\n",
       "28993 2020-05-09     Zimbabwe   NaN -20.0  30.0       35.0        9.0     4.0\n",
       "\n",
       "[28994 rows x 8 columns]"
      ]
     },
     "execution_count": 6,
     "metadata": {},
     "output_type": "execute_result"
    }
   ],
   "source": [
    "covid_data_raw"
   ]
  },
  {
   "cell_type": "markdown",
   "metadata": {},
   "source": [
    "Pro některé země je v datech více regionů. My si ale data agregujeme podle zemí dohromady."
   ]
  },
  {
   "cell_type": "code",
   "execution_count": 7,
   "metadata": {},
   "outputs": [
    {
     "data": {
      "text/html": [
       "<div>\n",
       "<style scoped>\n",
       "    .dataframe tbody tr th:only-of-type {\n",
       "        vertical-align: middle;\n",
       "    }\n",
       "\n",
       "    .dataframe tbody tr th {\n",
       "        vertical-align: top;\n",
       "    }\n",
       "\n",
       "    .dataframe thead th {\n",
       "        text-align: right;\n",
       "    }\n",
       "</style>\n",
       "<table border=\"1\" class=\"dataframe\">\n",
       "  <thead>\n",
       "    <tr style=\"text-align: right;\">\n",
       "      <th></th>\n",
       "      <th>Country</th>\n",
       "      <th>Date</th>\n",
       "      <th>Confirmed</th>\n",
       "      <th>Recovered</th>\n",
       "      <th>Deaths</th>\n",
       "    </tr>\n",
       "  </thead>\n",
       "  <tbody>\n",
       "    <tr>\n",
       "      <th>0</th>\n",
       "      <td>Afghanistan</td>\n",
       "      <td>2020-01-22</td>\n",
       "      <td>0.0</td>\n",
       "      <td>0.0</td>\n",
       "      <td>0.0</td>\n",
       "    </tr>\n",
       "    <tr>\n",
       "      <th>1</th>\n",
       "      <td>Afghanistan</td>\n",
       "      <td>2020-01-23</td>\n",
       "      <td>0.0</td>\n",
       "      <td>0.0</td>\n",
       "      <td>0.0</td>\n",
       "    </tr>\n",
       "    <tr>\n",
       "      <th>2</th>\n",
       "      <td>Afghanistan</td>\n",
       "      <td>2020-01-24</td>\n",
       "      <td>0.0</td>\n",
       "      <td>0.0</td>\n",
       "      <td>0.0</td>\n",
       "    </tr>\n",
       "    <tr>\n",
       "      <th>3</th>\n",
       "      <td>Afghanistan</td>\n",
       "      <td>2020-01-25</td>\n",
       "      <td>0.0</td>\n",
       "      <td>0.0</td>\n",
       "      <td>0.0</td>\n",
       "    </tr>\n",
       "    <tr>\n",
       "      <th>4</th>\n",
       "      <td>Afghanistan</td>\n",
       "      <td>2020-01-26</td>\n",
       "      <td>0.0</td>\n",
       "      <td>0.0</td>\n",
       "      <td>0.0</td>\n",
       "    </tr>\n",
       "    <tr>\n",
       "      <th>...</th>\n",
       "      <td>...</td>\n",
       "      <td>...</td>\n",
       "      <td>...</td>\n",
       "      <td>...</td>\n",
       "      <td>...</td>\n",
       "    </tr>\n",
       "    <tr>\n",
       "      <th>20378</th>\n",
       "      <td>Zimbabwe</td>\n",
       "      <td>2020-05-05</td>\n",
       "      <td>34.0</td>\n",
       "      <td>5.0</td>\n",
       "      <td>4.0</td>\n",
       "    </tr>\n",
       "    <tr>\n",
       "      <th>20379</th>\n",
       "      <td>Zimbabwe</td>\n",
       "      <td>2020-05-06</td>\n",
       "      <td>34.0</td>\n",
       "      <td>5.0</td>\n",
       "      <td>4.0</td>\n",
       "    </tr>\n",
       "    <tr>\n",
       "      <th>20380</th>\n",
       "      <td>Zimbabwe</td>\n",
       "      <td>2020-05-07</td>\n",
       "      <td>34.0</td>\n",
       "      <td>5.0</td>\n",
       "      <td>4.0</td>\n",
       "    </tr>\n",
       "    <tr>\n",
       "      <th>20381</th>\n",
       "      <td>Zimbabwe</td>\n",
       "      <td>2020-05-08</td>\n",
       "      <td>34.0</td>\n",
       "      <td>9.0</td>\n",
       "      <td>4.0</td>\n",
       "    </tr>\n",
       "    <tr>\n",
       "      <th>20382</th>\n",
       "      <td>Zimbabwe</td>\n",
       "      <td>2020-05-09</td>\n",
       "      <td>35.0</td>\n",
       "      <td>9.0</td>\n",
       "      <td>4.0</td>\n",
       "    </tr>\n",
       "  </tbody>\n",
       "</table>\n",
       "<p>20383 rows × 5 columns</p>\n",
       "</div>"
      ],
      "text/plain": [
       "           Country       Date  Confirmed  Recovered  Deaths\n",
       "0      Afghanistan 2020-01-22        0.0        0.0     0.0\n",
       "1      Afghanistan 2020-01-23        0.0        0.0     0.0\n",
       "2      Afghanistan 2020-01-24        0.0        0.0     0.0\n",
       "3      Afghanistan 2020-01-25        0.0        0.0     0.0\n",
       "4      Afghanistan 2020-01-26        0.0        0.0     0.0\n",
       "...            ...        ...        ...        ...     ...\n",
       "20378     Zimbabwe 2020-05-05       34.0        5.0     4.0\n",
       "20379     Zimbabwe 2020-05-06       34.0        5.0     4.0\n",
       "20380     Zimbabwe 2020-05-07       34.0        5.0     4.0\n",
       "20381     Zimbabwe 2020-05-08       34.0        9.0     4.0\n",
       "20382     Zimbabwe 2020-05-09       35.0        9.0     4.0\n",
       "\n",
       "[20383 rows x 5 columns]"
      ]
     },
     "execution_count": 7,
     "metadata": {},
     "output_type": "execute_result"
    }
   ],
   "source": [
    "covid_data = (\n",
    "    covid_data_raw\n",
    "    .groupby([\"Country\", \"Date\"])[[\"Confirmed\", \"Recovered\", \"Deaths\"]]\n",
    "    .agg(\"sum\")\n",
    "    .reset_index()\n",
    ")\n",
    "covid_data"
   ]
  },
  {
   "cell_type": "markdown",
   "metadata": {},
   "source": [
    "### Interaktivní vizualizace\n",
    "\n",
    "Zajímá nás průběh jedné konkrétní země - třeba Česka :)"
   ]
  },
  {
   "cell_type": "code",
   "execution_count": 8,
   "metadata": {},
   "outputs": [],
   "source": [
    "# uložíme si to do proměnné, abychom to pak nespletli\n",
    "country = \"Czechia\""
   ]
  },
  {
   "cell_type": "code",
   "execution_count": 9,
   "metadata": {},
   "outputs": [
    {
     "data": {
      "text/html": [
       "<div>\n",
       "<style scoped>\n",
       "    .dataframe tbody tr th:only-of-type {\n",
       "        vertical-align: middle;\n",
       "    }\n",
       "\n",
       "    .dataframe tbody tr th {\n",
       "        vertical-align: top;\n",
       "    }\n",
       "\n",
       "    .dataframe thead th {\n",
       "        text-align: right;\n",
       "    }\n",
       "</style>\n",
       "<table border=\"1\" class=\"dataframe\">\n",
       "  <thead>\n",
       "    <tr style=\"text-align: right;\">\n",
       "      <th></th>\n",
       "      <th>Country</th>\n",
       "      <th>Date</th>\n",
       "      <th>Confirmed</th>\n",
       "      <th>Recovered</th>\n",
       "      <th>Deaths</th>\n",
       "    </tr>\n",
       "  </thead>\n",
       "  <tbody>\n",
       "    <tr>\n",
       "      <th>5118</th>\n",
       "      <td>Czechia</td>\n",
       "      <td>2020-05-05</td>\n",
       "      <td>7896.0</td>\n",
       "      <td>4006.0</td>\n",
       "      <td>257.0</td>\n",
       "    </tr>\n",
       "    <tr>\n",
       "      <th>5119</th>\n",
       "      <td>Czechia</td>\n",
       "      <td>2020-05-06</td>\n",
       "      <td>7974.0</td>\n",
       "      <td>4205.0</td>\n",
       "      <td>262.0</td>\n",
       "    </tr>\n",
       "    <tr>\n",
       "      <th>5120</th>\n",
       "      <td>Czechia</td>\n",
       "      <td>2020-05-07</td>\n",
       "      <td>8031.0</td>\n",
       "      <td>4371.0</td>\n",
       "      <td>270.0</td>\n",
       "    </tr>\n",
       "    <tr>\n",
       "      <th>5121</th>\n",
       "      <td>Czechia</td>\n",
       "      <td>2020-05-08</td>\n",
       "      <td>8077.0</td>\n",
       "      <td>4413.0</td>\n",
       "      <td>273.0</td>\n",
       "    </tr>\n",
       "    <tr>\n",
       "      <th>5122</th>\n",
       "      <td>Czechia</td>\n",
       "      <td>2020-05-09</td>\n",
       "      <td>8095.0</td>\n",
       "      <td>4447.0</td>\n",
       "      <td>276.0</td>\n",
       "    </tr>\n",
       "  </tbody>\n",
       "</table>\n",
       "</div>"
      ],
      "text/plain": [
       "      Country       Date  Confirmed  Recovered  Deaths\n",
       "5118  Czechia 2020-05-05     7896.0     4006.0   257.0\n",
       "5119  Czechia 2020-05-06     7974.0     4205.0   262.0\n",
       "5120  Czechia 2020-05-07     8031.0     4371.0   270.0\n",
       "5121  Czechia 2020-05-08     8077.0     4413.0   273.0\n",
       "5122  Czechia 2020-05-09     8095.0     4447.0   276.0"
      ]
     },
     "execution_count": 9,
     "metadata": {},
     "output_type": "execute_result"
    }
   ],
   "source": [
    "covid_selected_country = covid_data.query(f'Country == \"{country}\"')\n",
    "covid_selected_country.tail()"
   ]
  },
  {
   "cell_type": "markdown",
   "metadata": {},
   "source": [
    "Určitě bude zajímavé si data vykreslit v grafu. Zatím jsme používali hlavně knihovnu `matplotlib`. Ta toho umí opravdu hodně, navíc jde používat přímo pomocí `DataFrame.plot`. Chybí jí ale vlastnost, která je pro datovou analýzu a hlavně pak pro webové aplikace nesmírně užitečná: *interaktivita*. (Ona tedy nechybí úplně, ale je velmi omezená.)\n",
    "\n",
    "Interaktivita nám umožňuje bohatší práci s vizualizacemi. Můžeme si zvětšit nějakou podoblast grafu. Můžeme zvětšovat / zmenšovat měřítko aby byly vidět třeba i malé rozdíly v hodnotách. V [lekci a PCA](../pca) jsme použili interakticní popisky jednotlivých symbolů v grafu na identifikaci příslušného záznamu v datech. A mnoho dalšího.\n",
    "\n",
    "S [plotly](https://plot.ly), resp. [plotly-express](https://plotly.com/python/plotly-express/), už jsme trochu pracovali. Pojďme tedy tuto knihovnu rovnou použít! "
   ]
  },
  {
   "cell_type": "code",
   "execution_count": null,
   "metadata": {},
   "outputs": [],
   "source": [
    "px.bar(\n",
    "    covid_selected_country,\n",
    "    x=\"Date\",\n",
    "    y=\"Confirmed\",\n",
    "    title=f\"Confirmed cases in {country}\",\n",
    ")"
   ]
  },
  {
   "cell_type": "markdown",
   "metadata": {},
   "source": [
    "Teď byste měli v notebooku vidět graf - vývoj případů v Česku. Pojďme si s grafem chvilku hrát :)\n",
    "\n",
    "**Vyzkoušejte:**\n",
    "* Vybrat a vyzkoušet nástroje v pravém horním rohu na zoom (změnu měřítka), pan (posun) nebo reset axis.\n",
    "* Zkuste se zastavit s kurzorem nad jedním ze slopců v grafu."
   ]
  },
  {
   "cell_type": "markdown",
   "metadata": {},
   "source": [
    "**Úkol:** \n",
    "1. Vykreslete průběh počtu nakažených pro Česko, Rakousko a Finsko v jednom grafu, každou zemi jinou barvou (použijte argument `color`). Na filtrování dat si vzpomeňte na `.isin`. \n",
    "2. Změňte veličinu na počet uzdravených.\n",
    "3. Změňte typ grafu na čárový (line)."
   ]
  },
  {
   "cell_type": "markdown",
   "metadata": {},
   "source": [
    "Dokázali jsme si vytvořit celkem pěknou vizualizaci základních veličin, popisujích průběh pandemie COVID-19. Museli jsme si ale ručně vybírat a přepínat parametry vizualizace, např. výběr zemí nebo vykreslované veličiny.\n",
    "\n",
    "Praktičtější by určitě bylo mít nějaké \"klikátko\" - \"vybírávátko\", které by nám parametry umožnilo nastavit."
   ]
  },
  {
   "cell_type": "markdown",
   "metadata": {},
   "source": [
    "### Widgets - pomocné \"věcičky\" \n",
    "\n",
    "V uživatelských grafických rozhraních (GUI), zejména těch používajících webové technologie, se právě pro tyto přiležitosti hodí *widgety* (český výraz se nepoužívá a ani pořádně neexistuje).\n",
    "\n",
    "A jelikož máme to štěstí, že notebook má webové grafické rozhraní, můžeme widgety přidat přímo do něj. Jednou z možností je použít knihovnu [panel](https://panel.pyviz.org)."
   ]
  },
  {
   "cell_type": "markdown",
   "metadata": {},
   "source": [
    "Vytvoříme si rovnou úplně jednoduchý widget na výběr zěmě:"
   ]
  },
  {
   "cell_type": "code",
   "execution_count": 11,
   "metadata": {},
   "outputs": [],
   "source": [
    "country_selection = pn.widgets.Select(options=sorted(covid_data[\"Country\"].unique()), name=\"Country\")"
   ]
  },
  {
   "cell_type": "markdown",
   "metadata": {},
   "source": [
    "A teď si ho zobrazíme přího v notebooku:"
   ]
  },
  {
   "cell_type": "code",
   "execution_count": null,
   "metadata": {},
   "outputs": [],
   "source": [
    "country_selection"
   ]
  },
  {
   "cell_type": "markdown",
   "metadata": {},
   "source": [
    "V tuto chvíli můžete vybírat se zeznamu všech zemí, které jsou v našich datech. To je pohled vás jako uživatele. Ale co se stane z pohledu programátora, tedy co se stane v Pythonu?\n",
    "\n",
    "Objekt `country_selection` nám nabízí několik atributů a metod, které nám umožňují zjistit, co uživatel udělal. V tomto případě se nejvíc hodí zjistit, jakou zemi uživatel vybral. A na to je `.value`."
   ]
  },
  {
   "cell_type": "code",
   "execution_count": 13,
   "metadata": {},
   "outputs": [
    {
     "data": {
      "text/plain": [
       "'Afghanistan'"
      ]
     },
     "execution_count": 13,
     "metadata": {},
     "output_type": "execute_result"
    }
   ],
   "source": [
    "country_selection.value"
   ]
  },
  {
   "cell_type": "markdown",
   "metadata": {},
   "source": [
    "**Úkol:** Vyberte v buňce nahoře svou (ne)oblíbenou zemi a podívejte se, jestli se změnila hodnota `country_selection.value`. Je potřeba spouště znovu buňku, která zobrazuje `country_selection` widget? Co se stane, když jí spustíte znovu (třeba v jiné buňce)? "
   ]
  },
  {
   "cell_type": "markdown",
   "metadata": {},
   "source": [
    "`country_selection.value` už je něco, co můžeme použít pro vykreslení grafu podobně jako před chvilkou:"
   ]
  },
  {
   "cell_type": "code",
   "execution_count": null,
   "metadata": {},
   "outputs": [],
   "source": [
    "px.bar(\n",
    "    covid_data.query(f'Country == \"{country_selection.value}\"'),\n",
    "    x=\"Date\",\n",
    "    y=\"Confirmed\",\n",
    "    title=f\"Confirmed cases in {country_selection.value}\",\n",
    ")"
   ]
  },
  {
   "cell_type": "markdown",
   "metadata": {},
   "source": [
    "Teď jsme mohli vybrat jeden parametr. Hodilo by se nám ale vybírat více parametrů různých typů: výběr více zemí, vykreslená veličina, přepínač logaritmické škály nebo třeba typ zobrazení (bar nebo line plot). S volbou vhodných widgetů nám pomůže [dokumentace panel](https://panel.holoviz.org/reference/index.html) (pozor, některé widgety nejsou v naší starší verzi dostupné). Abychom nemuseli každý widget zobrazovat zvlášť, použijeme komponenty z kategorie Layouts, nyní konkrétně `Column`."
   ]
  },
  {
   "cell_type": "code",
   "execution_count": 15,
   "metadata": {},
   "outputs": [],
   "source": [
    "# widget pro výběr více možností ze seznamu\n",
    "countries_selection = pn.widgets.CrossSelector(\n",
    "    name=\"Countries\", options=sorted(covid_data[\"Country\"].unique()), value=[\"Czechia\"]\n",
    ")\n",
    "# výběr vykreslené veličiny\n",
    "plotted_variable = pn.widgets.Select(\n",
    "    name=\"Plotted variable\", options=[\"Confirmed\", \"Recovered\", \"Deaths\"]\n",
    ")\n",
    "# přepínač logaritmické škály\n",
    "use_log_scale = pn.widgets.Checkbox(name=\"Use log scale\", value=False)\n",
    "# výběr typu grafu\n",
    "plot_type = pn.widgets.Select(\n",
    "    name=\"Plot type\", options={\"bar\": px.bar, \"line\": px.line}\n",
    ")"
   ]
  },
  {
   "cell_type": "markdown",
   "metadata": {},
   "source": [
    "A teď to dáme vše dohromady pro zobrazení nad sebou, tj. do sloupce, a rovnou zobrazíme."
   ]
  },
  {
   "cell_type": "code",
   "execution_count": null,
   "metadata": {
    "scrolled": false
   },
   "outputs": [],
   "source": [
    "selections = pn.Column(countries_selection, plotted_variable, use_log_scale, plot_type)\n",
    "\n",
    "selections"
   ]
  },
  {
   "cell_type": "markdown",
   "metadata": {},
   "source": [
    "Pokud chceme dát dvě komponenty vedle sebe, dáme je do jedné řady nebo `Row`:"
   ]
  },
  {
   "cell_type": "code",
   "execution_count": null,
   "metadata": {},
   "outputs": [],
   "source": [
    "selections = pn.Column(\n",
    "    countries_selection, pn.Row(plotted_variable, plot_type), use_log_scale\n",
    ")\n",
    "\n",
    "selections"
   ]
  },
  {
   "cell_type": "markdown",
   "metadata": {},
   "source": [
    "A teď už můžeme vybrané možnosti použít:"
   ]
  },
  {
   "cell_type": "code",
   "execution_count": null,
   "metadata": {
    "scrolled": false
   },
   "outputs": [],
   "source": [
    "plot_type.value(\n",
    "    covid_data.loc[covid_data[\"Country\"].isin(countries_selection.value)],\n",
    "    x=\"Date\",\n",
    "    y=plotted_variable.value,\n",
    "    color=\"Country\",\n",
    "    log_y=use_log_scale.value,\n",
    ")"
   ]
  },
  {
   "cell_type": "markdown",
   "metadata": {},
   "source": [
    "### Provázání uživatelských vstupů a výstupu\n",
    "\n",
    "Naší aplikaci teď chybí už jen \"maličkost\" - provázat uživatelské vstupy s výstupem tak, aby se výstup automaticky aktualizoval. \n",
    "Aby se nám to podařilo, budeme muset náš kód zabalit do funkce, která aplikaci (dashboard) vytváří. "
   ]
  },
  {
   "cell_type": "code",
   "execution_count": 19,
   "metadata": {},
   "outputs": [],
   "source": [
    "# argumenty funkce NEJSOU widgety\n",
    "def create_dashboard(countries, plot_variable, plot_function, log_y):\n",
    "    return plot_type.value(\n",
    "        covid_data.loc[covid_data[\"Country\"].isin(countries)],\n",
    "        x=\"Date\",\n",
    "        y=plot_variable,\n",
    "        color=\"Country\",\n",
    "        log_y=log_y,\n",
    "    )"
   ]
  },
  {
   "cell_type": "markdown",
   "metadata": {},
   "source": [
    "Funkci můžeme vyzkoušet a předat jí aktuální hodnoty z widgetů. Tím ale stále ještě *nemáme interaktivní aplikaci*."
   ]
  },
  {
   "cell_type": "code",
   "execution_count": null,
   "metadata": {},
   "outputs": [],
   "source": [
    "create_dashboard(\n",
    "    countries=countries_selection.value,\n",
    "    plot_variable=plotted_variable.value,\n",
    "    plot_function=plot_type.value,\n",
    "    log_y=use_log_scale.value,\n",
    ")"
   ]
  },
  {
   "cell_type": "markdown",
   "metadata": {},
   "source": [
    "Tím zbývajícím kouskem skládačky k interaktivní aplikaci je funkce `interact`. Ta nám \"obalí\" naši funkci, v tomto případě `create_dashboard`, a sváže hodnoty widgetů se vstupními argumenty naší funkce (která generuje grafický výstup na základě hodnot vstupních parametrů)."
   ]
  },
  {
   "cell_type": "code",
   "execution_count": 21,
   "metadata": {},
   "outputs": [],
   "source": [
    "# nejprve interaktivní dashboard vytvoříme\n",
    "interactive_dashboard = pn.interact(\n",
    "    create_dashboard,\n",
    "    countries=countries_selection,\n",
    "    plot_variable=plotted_variable,\n",
    "    plot_function=plot_type,\n",
    "    log_y=use_log_scale,\n",
    ")"
   ]
  },
  {
   "cell_type": "code",
   "execution_count": null,
   "metadata": {},
   "outputs": [],
   "source": [
    "# a poté zobrazíme\n",
    "interactive_dashboard"
   ]
  },
  {
   "cell_type": "markdown",
   "metadata": {},
   "source": [
    "Teď si zkuste měnit hodnoty pomocí widgetů - výstup se bude hned měnit (tedy skoro hned - takto vytvořená aplikace není nejsvižnější - to je drobá daň za jednoduchust implementace)."
   ]
  },
  {
   "cell_type": "markdown",
   "metadata": {},
   "source": [
    "## Z notebooku k samostatné aplikaci\n",
    "\n",
    "Zatím jsi si vše zprovoznil(a) ve svém notebooku. To je výborné, ale má to pořád ještě drobnou nevýhodu - poslat takový notebook někomu, kdo si pod pojmem Python vybaví pouze 🐍, je riskantní. Když totiž jako nápovědu uslyší, že si toho hada má pustit, nejspíš se lekne a uteče. Místo toho bychom raději předali jen odkaz na webovou \"stránku\", tedy na náš dashboard.\n",
    "\n",
    "Začneme tím, že si aplikaci spustíme na svém počítači. To jde naštěstí velice jednoduše, dokonce můžeme použít přímo tento notebook. Jen musíme nějak vysvětlit, co přesně v té aplikaci má být. Na to slouží metoda `servable`."
   ]
  },
  {
   "cell_type": "code",
   "execution_count": null,
   "metadata": {},
   "outputs": [],
   "source": [
    "interactive_dashboard.servable(title=\"Můj COVID-19 dashboard\")"
   ]
  },
  {
   "cell_type": "markdown",
   "metadata": {},
   "source": [
    "V notebooku se nic nezměnilo, můžeme ale spustit notebook jako samostatnou aplikaci. V příkazové řádce to zajistí\n",
    "\n",
    "```\n",
    "bokeh serve dashboards.ipynb\n",
    "```"
   ]
  },
  {
   "cell_type": "markdown",
   "metadata": {},
   "source": [
    "Zobrazí se nám něco jako\n",
    "```\n",
    "2020-04-13 09:31:13,787 Starting Bokeh server version 1.4.0 (running on Tornado 6.0.4)\n",
    "2020-04-13 09:31:13,799 User authentication hooks NOT provided (default user enabled)\n",
    "2020-04-13 09:31:13,802 Bokeh app running at: http://localhost:5006/dashboards\n",
    "2020-04-13 09:31:13,802 Starting Bokeh server with process id: 9220\n",
    "```\n",
    "\n",
    "Na třetím řádku jistě rozeznáte webový odkaz. Pravděpodobně tam bude http://localhost:5006/dashboards. Pokud tuto adresu otevřeš v prohlížeči, zobrazí se poslední verze našeho COVID dashboardu - ta, u které jsme zavolal metodu `.servable()`."
   ]
  },
  {
   "cell_type": "markdown",
   "metadata": {},
   "source": [
    "### Publikujeme na internet\n",
    "\n",
    "V principu bychom mohli spustit aplikaci u sebe na počítači tak, aby ji mohli používat i další uživatelé. Na vnitřní síti (domácí, pracovní) by to bylo snadné (i když na pracovní síti a pracovním počítači by tomu mohla bránit bezpečnostní nastavení), přístup z vnějšího internetu by už byl komplikovanější.\n",
    "\n",
    "Naštěstí nejsme v podobné situaci sami :) Takže existují více či méně složité a sofistikované způsoby, jak aplikaci spustit na nějakém serveru (v cloudu) a zpřístupnit z internetu. My si ukážeme, jak to funguje na [Heroku](https://heroku.com). Podobné služby nabízí třeba AWS (Elastic Beanstalk), Google App Engine nebo Dokku on Digital Ocean. Výhodou Heroku je jednoduchost a možnost bezplatných služeb, nevýhodou pak rychle rostoucí cena a omezené možnosti.\n",
    "\n",
    "Budeme postupovat v podstatě podle průvodce [Getting started with Python](https://devcenter.heroku.com/articles/getting-started-with-python)."
   ]
  },
  {
   "cell_type": "markdown",
   "metadata": {},
   "source": [
    "### Registrace a klient Heroku\n",
    "\n",
    "Než začneme, je potřeba:\n",
    "1. Založit si bezplatný účet na https://signup.heroku.com/signup/dc.\n",
    "2. Nainstalovat Git:\n",
    "   * Windows: https://gitforwindows.org/\n",
    "   * Mac OS: https://sourceforge.net/projects/git-osx-installer/files/ (případně další možnosti popsané na https://www.atlassian.com/git/tutorials/install-git).\n",
    "   * Linux: Nejspíš tam už bude nebo určitě víš jak na to :)\n",
    "3. Alespoň základní konfigurace Gitu. V příkazovém řádku (*vyplňte své jméno a email*):\n",
    "```\n",
    "git config --global user.name \"Moje Jméno\"\n",
    "git config --global user.email \"muj@email.com\"\n",
    "```\n",
    "3. Nainstalovat si Heroku klienta:\n",
    "   * Postupujte podle https://devcenter.heroku.com/articles/heroku-cli\n",
    "   \n",
    "Instalaci ověříme v příkazové řádce pomocí:\n",
    "1. Git:\n",
    "```\n",
    "git config --list\n",
    "```\n",
    "Mělo by se objevit něco na způsob\n",
    "```\n",
    "user.name=Moje Jméno\n",
    "user.email=muj@email.com\n",
    "```\n",
    "\n",
    "2. Heroku:\n",
    "```\n",
    "heroku --version\n",
    "```\n",
    "Tady by mělo být výstupem zhruba\n",
    "```\n",
    "heroku/7.39.2 darwin-x64 node-v12.13.0\n",
    "```"
   ]
  },
  {
   "cell_type": "markdown",
   "metadata": {},
   "source": [
    "### Go-live\n",
    "\n",
    "Teď budeme chvilku pracovat v příkazové řádce. Než začnete psát příkazy, ujistěte se, že jste ve složce s tímto netebookem. Ideálně by v této složce měl být (zatím) jen tento notebook. Pokud to tak není, můžete si vytvořit složku novou a notebook tam přesunout nebo zkopírovat.\n",
    "\n",
    "A můžeme začít:\n",
    "\n",
    "1. Musíme vytvořit Git repozitář:\n",
    "```\n",
    "git init\n",
    "```\n",
    "\n",
    "2. Pro Heroku potřebuje vytvořit soubor s názvem `Procfile`. Ten velice jednoduše říká, co že to vlastně chceme spustit. Bude tam příkaz `bokeh serve` (tak jako jsme spouštěli aplikaci lokálně) s pár přepínači navíc. Konkrétně soubor `Procfile` musí obsahovat tento řádek:\n",
    "```\n",
    "web: bokeh serve --port=$PORT --allow-websocket-origin=\"*\" --address=0.0.0.0 dashboards.ipynb\n",
    "```\n",
    "\n",
    "3. Dalším souborem, který potřebujeme, je `requirements.txt`. O tom jste už možná slyšeli(y) - obsahuje seznam Python balíčků, které potřebuje daný Python projekt. Heroku tento soubor použije, aby před spuštěním aplikace nainstaloval vše potřebné. Pro náš dashboard musí býv v `requirements.txt` toto:\n",
    "```\n",
    "bokeh==2.0.2\n",
    "panel==0.9.5\n",
    "pandas==1.0.3\n",
    "notebook==6.0.3\n",
    "plotly==4.5.4\n",
    "```\n",
    "\n",
    "4. Soubory už máme připravené, potřebujeme je teď přidat do Git repozitáře. Na to použij tyto dva příkazy:\n",
    "```\n",
    "git add dashboards.ipynb Procfile requirements.txt\n",
    "git commit -v -m \"první verze dashboardu\"\n",
    "```\n",
    "\n",
    "5. A teď už můžeme publikovat. Tedy nejdříve se přihlásit pomocí\n",
    "```\n",
    "heroku login\n",
    "```\n",
    "(Postupujte dle pokynů - otevře se přihlašovací stránka ve webovém prohlížeči, která vás vyzve k zadání přihlašovacích údajů.)\n",
    "\n",
    "6. Pak ještě vytvořit Heroku aplikaci pomocí \n",
    "```\n",
    "heroku create\n",
    "```\n",
    "\n",
    "7. A nakonec už opravdu vypustit aplikaci na internet pomocí\n",
    "```\n",
    "git push heroku master\n",
    "```\n",
    "\n"
   ]
  },
  {
   "cell_type": "markdown",
   "metadata": {},
   "source": [
    "Pokud vše půjde dobře, tento krok bude chvíli trvat. Postupně se bude vypisovat, co pro nás Heroku dělá:\n",
    "```\n",
    "Enumerating objects: 7, done.\n",
    "Counting objects: 100% (7/7), done.\n",
    "Delta compression using up to 4 threads\n",
    "Compressing objects: 100% (4/4), done.\n",
    "Writing objects: 100% (4/4), 940.72 KiB | 2.40 MiB/s, done.\n",
    "Total 4 (delta 2), reused 0 (delta 0)\n",
    "remote: Compressing source files... done.\n",
    "remote: Building source:\n",
    "remote:\n",
    "remote: -----> Python app detected\n",
    "remote: -----> Clearing cached dependencies\n",
    "remote: -----> Installing python-3.8.2\n",
    "remote: -----> Installing pip\n",
    "remote: -----> Installing SQLite3\n",
    "remote: Sqlite3 successfully installed.\n",
    "remote: -----> Installing requirements with pip\n",
    "remote:        Collecting bokeh==1.4.0\n",
    "remote:          Downloading bokeh-1.4.0.tar.gz (32.4 MB)\n",
    "remote:        Collecting panel==0.8.3\n",
    "...\n",
    "```\n",
    "\n",
    "Nakonec by se mělo objevit něco jako\n",
    "```\n",
    "remote: -----> Launching...\n",
    "remote:        Released v20\n",
    "remote:        https://banana-sundae-72768.herokuapp.com/ deployed to Heroku\n",
    "remote:\n",
    "remote: Verifying deploy... done.\n",
    "To https://git.heroku.com/banana-sundae-72768.git\n",
    "   2652f01..8d65612  master -> master\n",
    "```\n"
   ]
  },
  {
   "cell_type": "markdown",
   "metadata": {},
   "source": [
    "Důležitý je odkaz pod řádkem \"Released v20\". To je totiž adresa, na které je náš dashboard dostupný \"odkudkoli z internetu\". Buď si ji zkopírujte do prohlížeče nebo použijte příkaz `heroku open`."
   ]
  }
 ],
 "metadata": {
  "kernelspec": {
   "display_name": "Python 3",
   "language": "python",
   "name": "python3"
  },
  "language_info": {
   "codemirror_mode": {
    "name": "ipython",
    "version": 3
   },
   "file_extension": ".py",
   "mimetype": "text/x-python",
   "name": "python",
   "nbconvert_exporter": "python",
   "pygments_lexer": "ipython3",
   "version": "3.7.3"
  }
 },
 "nbformat": 4,
 "nbformat_minor": 4
}
