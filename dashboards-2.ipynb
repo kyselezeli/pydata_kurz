{
 "cells": [
  {
   "cell_type": "markdown",
   "metadata": {},
   "source": [
    "# Pokročilejší možnosti pro dashboardy\n",
    "\n",
    "## Dashboard jako třída\n",
    "\n",
    "Použití `interact` bylo opravdu přímočaré. Pro složitější aplikace už by ale byl samotný `interact` příliš omezující. Proto jsou v knihovně `panel` další možnosti, jak naprogramovat interaktivní aplikaci. \n",
    "\n",
    "My teď použijeme modul [`param`](https://panel.holoviz.org/user_guide/Param.html#). Další, ještě flexibilnější možnosti, jsou pak popsány v https://panel.holoviz.org/user_guide/Links.html. "
   ]
  },
  {
   "cell_type": "markdown",
   "metadata": {},
   "source": [
    "Vytvoříme třídu `CovidDashboard`, která bude funkcionalitou stejná jako dashboard s předchozí části. Čeho si hlavně všimněte:\n",
    "\n",
    "* Naše třída dědí od `param.Parameterized`.\n",
    "* Atributy, které se mění interaktivně pomocí widgetů (`countries`, `plotted_variable`, `use_log_scale`, `plot_type`), jsou na úrovní třídy (class attributes), tj. nevytvářejí se v metodě `__init__`.\n",
    "* V těchto atributech jsou objekty z modulu `param`, které nepopisují přímo widgety, ale typ dat (`Selector`, `Boolean`, `ListSelector`).\n",
    "* Pro získání hodnoty našich atributů neoptřebujeme `.value` jako u widgetů.\n",
    "* Nepotřebujeme vlastní `__init__`.\n",
    "\n",
    "Závislost na stavu jednotlivých atributů vyjadřujeme pomocí dekorátoru `param.depends`, který funguje podobně jako `interact`.\n",
    "\n",
    "Aplikaci vytváříme až v metodě `view` (jméno metody je libovolné). To je také jediná metoda, kde se přímo použije modul `panel` (`pn`). V této metodě je pár pozoruhodných věcí:\n",
    "* Do `pn.Row` dáváme funkce aniž bychom je volali (nejsou tam závorky) - `panel` si je volá vnitřně až když potřebuje vykreslit aplikaci.\n",
    "* Objevuje se metoda `self.param`, kterou jsme nijak nedefinovali. To je metoda třídy `Parameterized`, která vytvoří widgety ze všech těch atributů typu `Selector`, `Boolean` atd., v závislosti na jejich typech a vlastnostech."
   ]
  },
  {
   "cell_type": "code",
   "execution_count": null,
   "metadata": {},
   "outputs": [],
   "source": [
    "import datetime as dt\n",
    "\n",
    "import pandas as pd\n",
    "import numpy as np\n",
    "\n",
    "import param\n",
    "import panel as pn\n",
    "import plotly.express as px\n",
    "\n",
    "pn.extension(\"plotly\")"
   ]
  },
  {
   "cell_type": "code",
   "execution_count": 2,
   "metadata": {},
   "outputs": [],
   "source": [
    "# staré známé načítání dat\n",
    "covid_data_raw = pd.read_csv(\n",
    "    \"https://raw.githubusercontent.com/datasets/covid-19/master/data/time-series-19-covid-combined.csv\",\n",
    "    parse_dates=[\"Date\"],\n",
    ").rename(columns={\"Province/State\": \"State\", \"Country/Region\": \"Country\"})\n",
    "\n",
    "covid_data = (\n",
    "    covid_data_raw\n",
    "    .groupby([\"Country\", \"Date\"])[[\"Confirmed\", \"Recovered\", \"Deaths\"]]\n",
    "    .agg(\"sum\")\n",
    "    .reset_index()\n",
    ")"
   ]
  },
  {
   "cell_type": "code",
   "execution_count": 3,
   "metadata": {},
   "outputs": [],
   "source": [
    "class CovidDashboard(param.Parameterized):\n",
    "    \"\"\"Simple COVID-19 dashboard\n",
    "    \"\"\"\n",
    "\n",
    "    # atributy na úrovni třídy - popisují data použitá pro interaci\n",
    "    countries = param.ListSelector(\n",
    "        default=[\"Czechia\"], objects=sorted(covid_data[\"Country\"].unique())\n",
    "    )\n",
    "    plotted_variable = param.Selector(\n",
    "        default=\"Confirmed\", objects=[\"Confirmed\", \"Recovered\", \"Deaths\"]\n",
    "    )\n",
    "    use_log_scale = param.Boolean(doc=\"Use log scale\", default=False)\n",
    "    plot_type = param.Selector(\n",
    "        doc=\"Plot type\", objects={\"bar\": px.bar, \"line\": px.line}\n",
    "    )\n",
    "\n",
    "    # param.depends zařizuje interaktivní závislot\n",
    "    @param.depends(\"countries\", \"plotted_variable\", \"use_log_scale\", \"plot_type\")\n",
    "    def plot(self):\n",
    "        \"\"\"Plot data using plotly\n",
    "        \"\"\"\n",
    "        # tady už používáme self.countries atd., kde jsou k dispozici aktuální hodnoty\n",
    "        return self.plot_type(\n",
    "            covid_data.loc[covid_data[\"Country\"].isin(self.countries)],\n",
    "            x=\"Date\",\n",
    "            y=self.plotted_variable,\n",
    "            color=\"Country\",\n",
    "            log_y=self.use_log_scale,\n",
    "        )\n",
    "\n",
    "    def view(self):\n",
    "        \"\"\"Create panel interactive application\n",
    "        \"\"\"\n",
    "        return pn.Row(self.param, self.plot)"
   ]
  },
  {
   "cell_type": "markdown",
   "metadata": {},
   "source": [
    "Když vytvoříme instanci této třídy, ještě žádnou aplikaci nevytvoříme."
   ]
  },
  {
   "cell_type": "code",
   "execution_count": 4,
   "metadata": {},
   "outputs": [
    {
     "data": {
      "text/plain": [
       "CovidDashboard(countries=['Czechia'], name='CovidDashboard00006', plot_type=<function bar at 0x111fef440>, plotted_variable='Confirmed', use_log_scale=False)"
      ]
     },
     "execution_count": 4,
     "metadata": {},
     "output_type": "execute_result"
    }
   ],
   "source": [
    "covid_dashboard = CovidDashboard()\n",
    "covid_dashboard"
   ]
  },
  {
   "cell_type": "markdown",
   "metadata": {},
   "source": [
    "Až teprve metoda `view` vytváří aplikaci, v našem případě (skoro) stejnou jako jsme vytvořili pomocí `interact`. "
   ]
  },
  {
   "cell_type": "code",
   "execution_count": null,
   "metadata": {
    "scrolled": false
   },
   "outputs": [],
   "source": [
    "covid_dashboard.view()"
   ]
  },
  {
   "cell_type": "markdown",
   "metadata": {},
   "source": [
    "**Úkol:** Změňte typ atributu `countries`, aby šla vybrat pouze jedna země."
   ]
  },
  {
   "cell_type": "markdown",
   "metadata": {},
   "source": [
    "## Vylepšený dashboard\n",
    "\n",
    "Pojďme náš dashboard trochu vylepšit."
   ]
  },
  {
   "cell_type": "code",
   "execution_count": 6,
   "metadata": {},
   "outputs": [],
   "source": [
    "# Odkomentujte pro instalaci iso3166 - potřebujeme pro ISO kódy států\n",
    "# %pip install iso3166"
   ]
  },
  {
   "cell_type": "code",
   "execution_count": 7,
   "metadata": {},
   "outputs": [],
   "source": [
    "import iso3166\n",
    "\n",
    "\n",
    "def country_alpha3(country):\n",
    "    try:\n",
    "        return iso3166.countries.get(country).alpha3\n",
    "    except KeyError:\n",
    "        return None"
   ]
  },
  {
   "cell_type": "markdown",
   "metadata": {},
   "source": [
    "Načítání dat si zabalíme do funkce - použijeme poté v třídě pro dashboard."
   ]
  },
  {
   "cell_type": "code",
   "execution_count": 8,
   "metadata": {},
   "outputs": [],
   "source": [
    "def get_covid_data():\n",
    "    covid_data_raw = pd.read_csv(\n",
    "        \"https://raw.githubusercontent.com/datasets/covid-19/master/data/time-series-19-covid-combined.csv\",\n",
    "        parse_dates=[\"Date\"],\n",
    "    ).rename(columns={\"Province/State\": \"State\", \"Country/Region\": \"Country\"})\n",
    "\n",
    "    covid_data = (\n",
    "        covid_data_raw\n",
    "        .groupby([\"Country\", \"Date\"])\n",
    "        .agg({\"Confirmed\": \"sum\", \"Recovered\": \"sum\", \"Deaths\": \"sum\", \"Lat\": \"first\", \"Long\": \"first\"})\n",
    "        .reset_index()\n",
    "        .assign(iso_alpha=lambda df: df[\"Country\"].map(country_alpha3))\n",
    "    )\n",
    "    \n",
    "    return covid_data"
   ]
  },
  {
   "cell_type": "markdown",
   "metadata": {},
   "source": [
    "V aplikacích, které jsou spuštěné někde v oblacích, je velmi užitečné *logovat* co se děje. Pomůže nám to při odhalováních chyb, ladění rychlosti nebo obecně sledování kdo / jak aplikaci používá."
   ]
  },
  {
   "cell_type": "code",
   "execution_count": 9,
   "metadata": {},
   "outputs": [],
   "source": [
    "import logging\n",
    "\n",
    "logging.basicConfig(level=logging.INFO)"
   ]
  },
  {
   "cell_type": "markdown",
   "metadata": {},
   "source": [
    "Do našeho vylepšeného dashboardu přidáme následující:\n",
    "\n",
    "* Přehledovou tabulku.\n",
    "* Zobrazení dat na mapě.\n",
    "* Výběr datumu (pro přehledovou tabulku a mapu).\n",
    "* Chytřejší načítání dat."
   ]
  },
  {
   "cell_type": "code",
   "execution_count": 16,
   "metadata": {},
   "outputs": [],
   "source": [
    "class GreatCovidDashboard(param.Parameterized):\n",
    "    \"\"\"Almost the best COVID dashboard, (C) PyDataLadies 2020\n",
    "    \"\"\"\n",
    "\n",
    "    # výběr zemí - možnosti doplníme podle dat\n",
    "    countries = param.ListSelector(default=[\"Czechia\"], objects=[\"Czechia\"])\n",
    "    # výběr zobrazené veličiny\n",
    "    plotted_variable = param.Selector(\n",
    "        default=\"Confirmed\", objects=[\"Confirmed\", \"Recovered\", \"Deaths\"]\n",
    "    )\n",
    "    # přepínání logaritmického měřítka\n",
    "    use_log_scale = param.Boolean(doc=\"Use log scale\", default=False)\n",
    "    # výběr typu grafu\n",
    "    plot_type = param.Selector(\n",
    "        doc=\"Plot type\", objects={\"bar\": px.bar, \"line\": px.line}\n",
    "    )\n",
    "    # výběr datumu pro zobrazení dat na mapě\n",
    "    map_plot_date = param.Date(\n",
    "        # vybrané datum i meze změníme v update_covid_data na základě dat\n",
    "        dt.date(2020, 4, 1),\n",
    "        bounds=(dt.date(2020, 1, 1), dt.date(2020, 5, 1)),\n",
    "    )\n",
    "\n",
    "    def __init__(self, **params):\n",
    "        # vytvoříme si logger pro tuto třídu\n",
    "        self._logger = logging.getLogger(\"GreatCovidDashboard\")\n",
    "        self._logger.info(\"Initializing\")\n",
    "        # musíme zavolat i __init__ mateřské třídy\n",
    "        super().__init__(**params)\n",
    "        # \"skrytý\" atributu _covid_data aktualizujeme v metodě update_covid_data\n",
    "        self._covid_data = None\n",
    "        self.update_covid_data()\n",
    "        # na začátek vybereme poslední datum k zobrazení\n",
    "        self.map_plot_date = self._covid_data[\"Date\"].max().date()\n",
    "        self._logger.info(\"Initialized\")\n",
    "\n",
    "    def update_covid_data(self):\n",
    "        # načteme aktuální data do \"skrytého\" atributu _covid_data\n",
    "        self._logger.info(\"Loading COVID data\")\n",
    "        self._covid_data = get_covid_data()\n",
    "        # a změníme parametry vybírátka data\n",
    "        self.param.map_plot_date.bounds = (\n",
    "            self._covid_data[\"Date\"].min().date(),\n",
    "            self._covid_data[\"Date\"].max().date(),\n",
    "        )\n",
    "        self.param.countries.objects = sorted(self._covid_data[\"Country\"].unique())\n",
    "\n",
    "    # propery nám pomůže udělat \"chytrý\" atribut covid_data\n",
    "    # který používá \"skrytý\" _covid_data a aktualizuje ho pokud je třeba\n",
    "    @property\n",
    "    def covid_data(self):\n",
    "        # načítat data chci jen pokud jsou zastaralá\n",
    "        if self._covid_data[\"Date\"].max() < (dt.date.today() - dt.timedelta(days=1)):\n",
    "            self.update_covid_data()\n",
    "        return self._covid_data\n",
    "\n",
    "    @param.depends(\"countries\", \"plotted_variable\", \"use_log_scale\", \"plot_type\")\n",
    "    def plot(self):\n",
    "        \"\"\"Plot time evolution for one or more countries\n",
    "        \"\"\"\n",
    "        return self.plot_type(\n",
    "            self.covid_data.loc[self.covid_data[\"Country\"].isin(self.countries)],\n",
    "            x=\"Date\",\n",
    "            y=self.plotted_variable,\n",
    "            color=\"Country\",\n",
    "            log_y=self.use_log_scale,\n",
    "        )\n",
    "\n",
    "    @param.depends(\"plotted_variable\", \"use_log_scale\", \"map_plot_date\")\n",
    "    def map_plot(self):\n",
    "        \"\"\"Map-plot of COVID data on a specific date\n",
    "        \"\"\"\n",
    "        # vytvoříme si pomocný dataframe jen pro vybrané datum\n",
    "        data = self.covid_data.loc[self.covid_data[\"Date\"].dt.date == self.map_plot_date]\n",
    "        if self.use_log_scale:\n",
    "            # přidáme sloupec log(plotted_variable)\n",
    "            color_column = f\"log({self.plotted_variable})\"\n",
    "            data = data.assign(**{color_column: np.log10(data[self.plotted_variable])})\n",
    "        else:\n",
    "            color_column = self.plotted_variable\n",
    "            \n",
    "        return px.choropleth(\n",
    "            data,\n",
    "            locations=\"iso_alpha\",\n",
    "            color=color_column,\n",
    "            hover_name=\"Country\",\n",
    "            hover_data=[\"Confirmed\", \"Recovered\", \"Deaths\"],\n",
    "            color_continuous_scale=px.colors.sequential.Plasma,\n",
    "        )\n",
    "\n",
    "    @param.depends(\"map_plot_date\", \"countries\")\n",
    "    def selected_day_numbers(self):\n",
    "        \"\"\"Overview table for the selected date\n",
    "        \"\"\"\n",
    "        data = self.covid_data.loc[\n",
    "            (self.covid_data[\"Date\"].dt.date == self.map_plot_date)\n",
    "            & (self.covid_data[\"Country\"].isin(self.countries))\n",
    "        ]\n",
    "        return pn.Column(\n",
    "            pn.pane.HTML(f\"Situation on {self.map_plot_date}\"),\n",
    "            pn.pane.DataFrame(\n",
    "                data.set_index(\"Country\")[[\"Confirmed\", \"Recovered\", \"Deaths\"]]\n",
    "            ),\n",
    "        )\n",
    "\n",
    "    def view(self):\n",
    "        self._logger.info(\"Creating dashboard view\")\n",
    "        return pn.Column(\n",
    "            pn.pane.HTML(\"<h1>Great COVID-19 Dashboard</h1>\"),\n",
    "            self.selected_day_numbers,\n",
    "            pn.Row(\n",
    "                pn.Param(self.param, widgets={\"map_plot_date\": pn.widgets.DatePicker,}),\n",
    "                self.plot,\n",
    "            ),\n",
    "            self.map_plot,\n",
    "        )"
   ]
  },
  {
   "cell_type": "markdown",
   "metadata": {},
   "source": [
    "A teď už můžeme dashboard vytvořit."
   ]
  },
  {
   "cell_type": "code",
   "execution_count": 17,
   "metadata": {},
   "outputs": [
    {
     "name": "stderr",
     "output_type": "stream",
     "text": [
      "INFO:GreatCovidDashboard:Initializing\n",
      "INFO:GreatCovidDashboard:Loading COVID data\n",
      "INFO:GreatCovidDashboard:Initialized\n"
     ]
    }
   ],
   "source": [
    "great_covid_dashboard = GreatCovidDashboard()"
   ]
  },
  {
   "cell_type": "markdown",
   "metadata": {},
   "source": [
    "A nakonec zobrazit."
   ]
  },
  {
   "cell_type": "code",
   "execution_count": null,
   "metadata": {
    "scrolled": false
   },
   "outputs": [],
   "source": [
    "great_covid_dashboard.view().servable(title=\"Great COVID-19 Dashboard\")"
   ]
  },
  {
   "cell_type": "markdown",
   "metadata": {},
   "source": [
    "## Úkoly\n",
    "\n",
    "Zkuste teď náš nový krásný dashboard vylepšit a zprovoznit na internetu.\n",
    "\n",
    "1. Přidejte widget pro výběr projekce mapy. Projekce se mení pomocí parametru `location` funkce [`choropleth`](https://plotly.github.io/plotly.py-docs/generated/plotly.express.choropleth.html).\n",
    "2. Spusťte aplikaci na Heroku. Nejjednodušší bude nahradit předchozí dashboard.\n",
    "\n",
    "A pokud bude zbyde čas, zkuste třeba\n",
    "3. Změnit widget na výběr zemí na [`MultiChoice`](https://panel.holoviz.org/reference/widgets/MultiChoice.html#widgets-gallery-multichoice).\n",
    "4. Přidat vybírátko začátku časové osy.\n",
    "5. Přidat graf vývoje smrtnosti, tj. podílu zemřelých k nakaženým.\n",
    "\n",
    "Anebo vymyslete a naprogramujte vlastní vylepšení :)"
   ]
  },
  {
   "cell_type": "code",
   "execution_count": null,
   "metadata": {},
   "outputs": [],
   "source": []
  }
 ],
 "metadata": {
  "kernelspec": {
   "display_name": "Python 3",
   "language": "python",
   "name": "python3"
  },
  "language_info": {
   "codemirror_mode": {
    "name": "ipython",
    "version": 3
   },
   "file_extension": ".py",
   "mimetype": "text/x-python",
   "name": "python",
   "nbconvert_exporter": "python",
   "pygments_lexer": "ipython3",
   "version": "3.7.3"
  }
 },
 "nbformat": 4,
 "nbformat_minor": 4
}
